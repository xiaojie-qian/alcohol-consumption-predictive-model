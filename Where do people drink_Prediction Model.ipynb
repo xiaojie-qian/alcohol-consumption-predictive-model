{
 "cells": [
  {
   "cell_type": "code",
   "execution_count": 62,
   "id": "d4590656",
   "metadata": {},
   "outputs": [],
   "source": [
    "import requests"
   ]
  },
  {
   "cell_type": "code",
   "execution_count": 55,
   "id": "ece86ee3",
   "metadata": {},
   "outputs": [],
   "source": [
    "import pandas as pd\n",
    "import numpy as np\n",
    "import matplotlib.pyplot as plt\n",
    "import matplotlib as mpl"
   ]
  },
  {
   "cell_type": "code",
   "execution_count": 72,
   "id": "bf150706",
   "metadata": {},
   "outputs": [
    {
     "data": {
      "text/html": [
       "<div>\n",
       "<style scoped>\n",
       "    .dataframe tbody tr th:only-of-type {\n",
       "        vertical-align: middle;\n",
       "    }\n",
       "\n",
       "    .dataframe tbody tr th {\n",
       "        vertical-align: top;\n",
       "    }\n",
       "\n",
       "    .dataframe thead th {\n",
       "        text-align: right;\n",
       "    }\n",
       "</style>\n",
       "<table border=\"1\" class=\"dataframe\">\n",
       "  <thead>\n",
       "    <tr style=\"text-align: right;\">\n",
       "      <th></th>\n",
       "      <th>beer_servings</th>\n",
       "      <th>spirit_servings</th>\n",
       "      <th>wine_servings</th>\n",
       "      <th>total_litres_of_pure_alcohol</th>\n",
       "    </tr>\n",
       "    <tr>\n",
       "      <th>country</th>\n",
       "      <th></th>\n",
       "      <th></th>\n",
       "      <th></th>\n",
       "      <th></th>\n",
       "    </tr>\n",
       "  </thead>\n",
       "  <tbody>\n",
       "    <tr>\n",
       "      <th>Afghanistan</th>\n",
       "      <td>0</td>\n",
       "      <td>0</td>\n",
       "      <td>0</td>\n",
       "      <td>0.0</td>\n",
       "    </tr>\n",
       "    <tr>\n",
       "      <th>Albania</th>\n",
       "      <td>89</td>\n",
       "      <td>132</td>\n",
       "      <td>54</td>\n",
       "      <td>4.9</td>\n",
       "    </tr>\n",
       "    <tr>\n",
       "      <th>Algeria</th>\n",
       "      <td>25</td>\n",
       "      <td>0</td>\n",
       "      <td>14</td>\n",
       "      <td>0.7</td>\n",
       "    </tr>\n",
       "    <tr>\n",
       "      <th>Andorra</th>\n",
       "      <td>245</td>\n",
       "      <td>138</td>\n",
       "      <td>312</td>\n",
       "      <td>12.4</td>\n",
       "    </tr>\n",
       "    <tr>\n",
       "      <th>Angola</th>\n",
       "      <td>217</td>\n",
       "      <td>57</td>\n",
       "      <td>45</td>\n",
       "      <td>5.9</td>\n",
       "    </tr>\n",
       "  </tbody>\n",
       "</table>\n",
       "</div>"
      ],
      "text/plain": [
       "             beer_servings  spirit_servings  wine_servings  \\\n",
       "country                                                      \n",
       "Afghanistan              0                0              0   \n",
       "Albania                 89              132             54   \n",
       "Algeria                 25                0             14   \n",
       "Andorra                245              138            312   \n",
       "Angola                 217               57             45   \n",
       "\n",
       "             total_litres_of_pure_alcohol  \n",
       "country                                    \n",
       "Afghanistan                           0.0  \n",
       "Albania                               4.9  \n",
       "Algeria                               0.7  \n",
       "Andorra                              12.4  \n",
       "Angola                                5.9  "
      ]
     },
     "execution_count": 72,
     "metadata": {},
     "output_type": "execute_result"
    }
   ],
   "source": [
    "url = 'https://github.com/fivethirtyeight/data/blob/master/alcohol-consumption/drinks.csv?raw=true'\n",
    "df = pd.read_csv(url,index_col=0)\n",
    "df.head()"
   ]
  },
  {
   "cell_type": "code",
   "execution_count": 81,
   "id": "34c54c32",
   "metadata": {},
   "outputs": [
    {
     "name": "stdout",
     "output_type": "stream",
     "text": [
      "Download Starting ...\n",
      "Download Completed!!!\n"
     ]
    }
   ],
   "source": [
    "print('Download Starting ...')\n",
    "url = 'https://raw.githubusercontent.com/dbouquin/IS_608/master/NanosatDB_munging/Countries-Continents.csv'\n",
    "r = requests.get(url)\n",
    "filename = url.split('/')[-1]\n",
    " \n",
    "with open(filename,'wb') as output_file:\n",
    "    output_file.write(r.content)\n",
    " \n",
    "print('Download Completed!!!')"
   ]
  },
  {
   "cell_type": "code",
   "execution_count": 121,
   "id": "a9918fc3",
   "metadata": {},
   "outputs": [
    {
     "data": {
      "text/html": [
       "<div>\n",
       "<style scoped>\n",
       "    .dataframe tbody tr th:only-of-type {\n",
       "        vertical-align: middle;\n",
       "    }\n",
       "\n",
       "    .dataframe tbody tr th {\n",
       "        vertical-align: top;\n",
       "    }\n",
       "\n",
       "    .dataframe thead th {\n",
       "        text-align: right;\n",
       "    }\n",
       "</style>\n",
       "<table border=\"1\" class=\"dataframe\">\n",
       "  <thead>\n",
       "    <tr style=\"text-align: right;\">\n",
       "      <th></th>\n",
       "      <th>country</th>\n",
       "      <th>beer_servings</th>\n",
       "      <th>spirit_servings</th>\n",
       "      <th>wine_servings</th>\n",
       "      <th>total_litres_of_pure_alcohol</th>\n",
       "    </tr>\n",
       "  </thead>\n",
       "  <tbody>\n",
       "    <tr>\n",
       "      <th>0</th>\n",
       "      <td>Afghanistan</td>\n",
       "      <td>0</td>\n",
       "      <td>0</td>\n",
       "      <td>0</td>\n",
       "      <td>0.0</td>\n",
       "    </tr>\n",
       "    <tr>\n",
       "      <th>1</th>\n",
       "      <td>Albania</td>\n",
       "      <td>89</td>\n",
       "      <td>132</td>\n",
       "      <td>54</td>\n",
       "      <td>4.9</td>\n",
       "    </tr>\n",
       "    <tr>\n",
       "      <th>2</th>\n",
       "      <td>Algeria</td>\n",
       "      <td>25</td>\n",
       "      <td>0</td>\n",
       "      <td>14</td>\n",
       "      <td>0.7</td>\n",
       "    </tr>\n",
       "    <tr>\n",
       "      <th>3</th>\n",
       "      <td>Andorra</td>\n",
       "      <td>245</td>\n",
       "      <td>138</td>\n",
       "      <td>312</td>\n",
       "      <td>12.4</td>\n",
       "    </tr>\n",
       "    <tr>\n",
       "      <th>4</th>\n",
       "      <td>Angola</td>\n",
       "      <td>217</td>\n",
       "      <td>57</td>\n",
       "      <td>45</td>\n",
       "      <td>5.9</td>\n",
       "    </tr>\n",
       "  </tbody>\n",
       "</table>\n",
       "</div>"
      ],
      "text/plain": [
       "       country  beer_servings  spirit_servings  wine_servings  \\\n",
       "0  Afghanistan              0                0              0   \n",
       "1      Albania             89              132             54   \n",
       "2      Algeria             25                0             14   \n",
       "3      Andorra            245              138            312   \n",
       "4       Angola            217               57             45   \n",
       "\n",
       "   total_litres_of_pure_alcohol  \n",
       "0                           0.0  \n",
       "1                           4.9  \n",
       "2                           0.7  \n",
       "3                          12.4  \n",
       "4                           5.9  "
      ]
     },
     "execution_count": 121,
     "metadata": {},
     "output_type": "execute_result"
    }
   ],
   "source": [
    "path = 'C:/Users/QXJ/IBM/drinks.csv'\n",
    "df = pd.read_csv(path)\n",
    "df.head()"
   ]
  },
  {
   "cell_type": "code",
   "execution_count": 75,
   "id": "36fc990a",
   "metadata": {},
   "outputs": [
    {
     "data": {
      "text/plain": [
       "Index(['country', 'beer_servings', 'spirit_servings', 'wine_servings',\n",
       "       'total_litres_of_pure_alcohol'],\n",
       "      dtype='object')"
      ]
     },
     "execution_count": 75,
     "metadata": {},
     "output_type": "execute_result"
    }
   ],
   "source": [
    "df.columns"
   ]
  },
  {
   "cell_type": "code",
   "execution_count": 76,
   "id": "5a3abdc8",
   "metadata": {},
   "outputs": [
    {
     "data": {
      "text/plain": [
       "country                          object\n",
       "beer_servings                     int64\n",
       "spirit_servings                   int64\n",
       "wine_servings                     int64\n",
       "total_litres_of_pure_alcohol    float64\n",
       "dtype: object"
      ]
     },
     "execution_count": 76,
     "metadata": {},
     "output_type": "execute_result"
    }
   ],
   "source": [
    "df.dtypes"
   ]
  },
  {
   "cell_type": "code",
   "execution_count": 77,
   "id": "40195e6f",
   "metadata": {},
   "outputs": [
    {
     "data": {
      "text/html": [
       "<div>\n",
       "<style scoped>\n",
       "    .dataframe tbody tr th:only-of-type {\n",
       "        vertical-align: middle;\n",
       "    }\n",
       "\n",
       "    .dataframe tbody tr th {\n",
       "        vertical-align: top;\n",
       "    }\n",
       "\n",
       "    .dataframe thead th {\n",
       "        text-align: right;\n",
       "    }\n",
       "</style>\n",
       "<table border=\"1\" class=\"dataframe\">\n",
       "  <thead>\n",
       "    <tr style=\"text-align: right;\">\n",
       "      <th></th>\n",
       "      <th>country</th>\n",
       "      <th>beer_servings</th>\n",
       "      <th>spirit_servings</th>\n",
       "      <th>wine_servings</th>\n",
       "      <th>total_litres_of_pure_alcohol</th>\n",
       "    </tr>\n",
       "  </thead>\n",
       "  <tbody>\n",
       "    <tr>\n",
       "      <th>count</th>\n",
       "      <td>193</td>\n",
       "      <td>193.000000</td>\n",
       "      <td>193.000000</td>\n",
       "      <td>193.000000</td>\n",
       "      <td>193.000000</td>\n",
       "    </tr>\n",
       "    <tr>\n",
       "      <th>unique</th>\n",
       "      <td>193</td>\n",
       "      <td>NaN</td>\n",
       "      <td>NaN</td>\n",
       "      <td>NaN</td>\n",
       "      <td>NaN</td>\n",
       "    </tr>\n",
       "    <tr>\n",
       "      <th>top</th>\n",
       "      <td>Afghanistan</td>\n",
       "      <td>NaN</td>\n",
       "      <td>NaN</td>\n",
       "      <td>NaN</td>\n",
       "      <td>NaN</td>\n",
       "    </tr>\n",
       "    <tr>\n",
       "      <th>freq</th>\n",
       "      <td>1</td>\n",
       "      <td>NaN</td>\n",
       "      <td>NaN</td>\n",
       "      <td>NaN</td>\n",
       "      <td>NaN</td>\n",
       "    </tr>\n",
       "    <tr>\n",
       "      <th>mean</th>\n",
       "      <td>NaN</td>\n",
       "      <td>106.160622</td>\n",
       "      <td>80.994819</td>\n",
       "      <td>49.450777</td>\n",
       "      <td>4.717098</td>\n",
       "    </tr>\n",
       "    <tr>\n",
       "      <th>std</th>\n",
       "      <td>NaN</td>\n",
       "      <td>101.143103</td>\n",
       "      <td>88.284312</td>\n",
       "      <td>79.697598</td>\n",
       "      <td>3.773298</td>\n",
       "    </tr>\n",
       "    <tr>\n",
       "      <th>min</th>\n",
       "      <td>NaN</td>\n",
       "      <td>0.000000</td>\n",
       "      <td>0.000000</td>\n",
       "      <td>0.000000</td>\n",
       "      <td>0.000000</td>\n",
       "    </tr>\n",
       "    <tr>\n",
       "      <th>25%</th>\n",
       "      <td>NaN</td>\n",
       "      <td>20.000000</td>\n",
       "      <td>4.000000</td>\n",
       "      <td>1.000000</td>\n",
       "      <td>1.300000</td>\n",
       "    </tr>\n",
       "    <tr>\n",
       "      <th>50%</th>\n",
       "      <td>NaN</td>\n",
       "      <td>76.000000</td>\n",
       "      <td>56.000000</td>\n",
       "      <td>8.000000</td>\n",
       "      <td>4.200000</td>\n",
       "    </tr>\n",
       "    <tr>\n",
       "      <th>75%</th>\n",
       "      <td>NaN</td>\n",
       "      <td>188.000000</td>\n",
       "      <td>128.000000</td>\n",
       "      <td>59.000000</td>\n",
       "      <td>7.200000</td>\n",
       "    </tr>\n",
       "    <tr>\n",
       "      <th>max</th>\n",
       "      <td>NaN</td>\n",
       "      <td>376.000000</td>\n",
       "      <td>438.000000</td>\n",
       "      <td>370.000000</td>\n",
       "      <td>14.400000</td>\n",
       "    </tr>\n",
       "  </tbody>\n",
       "</table>\n",
       "</div>"
      ],
      "text/plain": [
       "            country  beer_servings  spirit_servings  wine_servings  \\\n",
       "count           193     193.000000       193.000000     193.000000   \n",
       "unique          193            NaN              NaN            NaN   \n",
       "top     Afghanistan            NaN              NaN            NaN   \n",
       "freq              1            NaN              NaN            NaN   \n",
       "mean            NaN     106.160622        80.994819      49.450777   \n",
       "std             NaN     101.143103        88.284312      79.697598   \n",
       "min             NaN       0.000000         0.000000       0.000000   \n",
       "25%             NaN      20.000000         4.000000       1.000000   \n",
       "50%             NaN      76.000000        56.000000       8.000000   \n",
       "75%             NaN     188.000000       128.000000      59.000000   \n",
       "max             NaN     376.000000       438.000000     370.000000   \n",
       "\n",
       "        total_litres_of_pure_alcohol  \n",
       "count                     193.000000  \n",
       "unique                           NaN  \n",
       "top                              NaN  \n",
       "freq                             NaN  \n",
       "mean                        4.717098  \n",
       "std                         3.773298  \n",
       "min                         0.000000  \n",
       "25%                         1.300000  \n",
       "50%                         4.200000  \n",
       "75%                         7.200000  \n",
       "max                        14.400000  "
      ]
     },
     "execution_count": 77,
     "metadata": {},
     "output_type": "execute_result"
    }
   ],
   "source": [
    "df.describe(include = 'all')"
   ]
  },
  {
   "cell_type": "code",
   "execution_count": 78,
   "id": "fe6b3ffc",
   "metadata": {},
   "outputs": [
    {
     "name": "stdout",
     "output_type": "stream",
     "text": [
      "<class 'pandas.core.frame.DataFrame'>\n",
      "RangeIndex: 193 entries, 0 to 192\n",
      "Data columns (total 5 columns):\n",
      " #   Column                        Non-Null Count  Dtype  \n",
      "---  ------                        --------------  -----  \n",
      " 0   country                       193 non-null    object \n",
      " 1   beer_servings                 193 non-null    int64  \n",
      " 2   spirit_servings               193 non-null    int64  \n",
      " 3   wine_servings                 193 non-null    int64  \n",
      " 4   total_litres_of_pure_alcohol  193 non-null    float64\n",
      "dtypes: float64(1), int64(3), object(1)\n",
      "memory usage: 7.7+ KB\n"
     ]
    }
   ],
   "source": [
    "df.info()"
   ]
  },
  {
   "cell_type": "code",
   "execution_count": 122,
   "id": "ed115d7c",
   "metadata": {},
   "outputs": [
    {
     "data": {
      "text/html": [
       "<div>\n",
       "<style scoped>\n",
       "    .dataframe tbody tr th:only-of-type {\n",
       "        vertical-align: middle;\n",
       "    }\n",
       "\n",
       "    .dataframe tbody tr th {\n",
       "        vertical-align: top;\n",
       "    }\n",
       "\n",
       "    .dataframe thead th {\n",
       "        text-align: right;\n",
       "    }\n",
       "</style>\n",
       "<table border=\"1\" class=\"dataframe\">\n",
       "  <thead>\n",
       "    <tr style=\"text-align: right;\">\n",
       "      <th></th>\n",
       "      <th>Continent</th>\n",
       "      <th>Country</th>\n",
       "    </tr>\n",
       "  </thead>\n",
       "  <tbody>\n",
       "    <tr>\n",
       "      <th>0</th>\n",
       "      <td>Africa</td>\n",
       "      <td>Algeria</td>\n",
       "    </tr>\n",
       "    <tr>\n",
       "      <th>1</th>\n",
       "      <td>Africa</td>\n",
       "      <td>Angola</td>\n",
       "    </tr>\n",
       "    <tr>\n",
       "      <th>2</th>\n",
       "      <td>Africa</td>\n",
       "      <td>Benin</td>\n",
       "    </tr>\n",
       "    <tr>\n",
       "      <th>3</th>\n",
       "      <td>Africa</td>\n",
       "      <td>Botswana</td>\n",
       "    </tr>\n",
       "    <tr>\n",
       "      <th>4</th>\n",
       "      <td>Africa</td>\n",
       "      <td>Burkina</td>\n",
       "    </tr>\n",
       "  </tbody>\n",
       "</table>\n",
       "</div>"
      ],
      "text/plain": [
       "  Continent   Country\n",
       "0    Africa   Algeria\n",
       "1    Africa    Angola\n",
       "2    Africa     Benin\n",
       "3    Africa  Botswana\n",
       "4    Africa   Burkina"
      ]
     },
     "execution_count": 122,
     "metadata": {},
     "output_type": "execute_result"
    }
   ],
   "source": [
    "url = 'https://raw.githubusercontent.com/dbouquin/IS_608/master/NanosatDB_munging/Countries-Continents.csv'\n",
    "df_2 = pd.read_csv(url)\n",
    "df_2.head()"
   ]
  },
  {
   "cell_type": "code",
   "execution_count": 123,
   "id": "742480de",
   "metadata": {},
   "outputs": [
    {
     "data": {
      "text/html": [
       "<div>\n",
       "<style scoped>\n",
       "    .dataframe tbody tr th:only-of-type {\n",
       "        vertical-align: middle;\n",
       "    }\n",
       "\n",
       "    .dataframe tbody tr th {\n",
       "        vertical-align: top;\n",
       "    }\n",
       "\n",
       "    .dataframe thead th {\n",
       "        text-align: right;\n",
       "    }\n",
       "</style>\n",
       "<table border=\"1\" class=\"dataframe\">\n",
       "  <thead>\n",
       "    <tr style=\"text-align: right;\">\n",
       "      <th></th>\n",
       "      <th>Continent</th>\n",
       "      <th>country</th>\n",
       "    </tr>\n",
       "  </thead>\n",
       "  <tbody>\n",
       "    <tr>\n",
       "      <th>0</th>\n",
       "      <td>Africa</td>\n",
       "      <td>Algeria</td>\n",
       "    </tr>\n",
       "    <tr>\n",
       "      <th>1</th>\n",
       "      <td>Africa</td>\n",
       "      <td>Angola</td>\n",
       "    </tr>\n",
       "    <tr>\n",
       "      <th>2</th>\n",
       "      <td>Africa</td>\n",
       "      <td>Benin</td>\n",
       "    </tr>\n",
       "    <tr>\n",
       "      <th>3</th>\n",
       "      <td>Africa</td>\n",
       "      <td>Botswana</td>\n",
       "    </tr>\n",
       "    <tr>\n",
       "      <th>4</th>\n",
       "      <td>Africa</td>\n",
       "      <td>Burkina</td>\n",
       "    </tr>\n",
       "  </tbody>\n",
       "</table>\n",
       "</div>"
      ],
      "text/plain": [
       "  Continent   country\n",
       "0    Africa   Algeria\n",
       "1    Africa    Angola\n",
       "2    Africa     Benin\n",
       "3    Africa  Botswana\n",
       "4    Africa   Burkina"
      ]
     },
     "execution_count": 123,
     "metadata": {},
     "output_type": "execute_result"
    }
   ],
   "source": [
    "df_2.rename(columns={\"Country\":\"country\"},inplace = True)\n",
    "df_2.head()"
   ]
  },
  {
   "cell_type": "code",
   "execution_count": 125,
   "id": "854e9a23",
   "metadata": {},
   "outputs": [
    {
     "data": {
      "text/plain": [
       "Continent    object\n",
       "country      object\n",
       "dtype: object"
      ]
     },
     "execution_count": 125,
     "metadata": {},
     "output_type": "execute_result"
    }
   ],
   "source": [
    "df_2.dtypes"
   ]
  },
  {
   "cell_type": "code",
   "execution_count": 128,
   "id": "7769fdf0",
   "metadata": {},
   "outputs": [],
   "source": [
    "# join continent to the drink list\n",
    "drink = pd.merge(df, df_2, how = 'left', on= \"country\")"
   ]
  },
  {
   "cell_type": "code",
   "execution_count": 129,
   "id": "983c309b",
   "metadata": {},
   "outputs": [
    {
     "data": {
      "text/html": [
       "<div>\n",
       "<style scoped>\n",
       "    .dataframe tbody tr th:only-of-type {\n",
       "        vertical-align: middle;\n",
       "    }\n",
       "\n",
       "    .dataframe tbody tr th {\n",
       "        vertical-align: top;\n",
       "    }\n",
       "\n",
       "    .dataframe thead th {\n",
       "        text-align: right;\n",
       "    }\n",
       "</style>\n",
       "<table border=\"1\" class=\"dataframe\">\n",
       "  <thead>\n",
       "    <tr style=\"text-align: right;\">\n",
       "      <th></th>\n",
       "      <th>country</th>\n",
       "      <th>beer_servings</th>\n",
       "      <th>spirit_servings</th>\n",
       "      <th>wine_servings</th>\n",
       "      <th>total_litres_of_pure_alcohol</th>\n",
       "      <th>Continent</th>\n",
       "    </tr>\n",
       "  </thead>\n",
       "  <tbody>\n",
       "    <tr>\n",
       "      <th>0</th>\n",
       "      <td>Afghanistan</td>\n",
       "      <td>0</td>\n",
       "      <td>0</td>\n",
       "      <td>0</td>\n",
       "      <td>0.0</td>\n",
       "      <td>Asia</td>\n",
       "    </tr>\n",
       "    <tr>\n",
       "      <th>1</th>\n",
       "      <td>Albania</td>\n",
       "      <td>89</td>\n",
       "      <td>132</td>\n",
       "      <td>54</td>\n",
       "      <td>4.9</td>\n",
       "      <td>Europe</td>\n",
       "    </tr>\n",
       "    <tr>\n",
       "      <th>2</th>\n",
       "      <td>Algeria</td>\n",
       "      <td>25</td>\n",
       "      <td>0</td>\n",
       "      <td>14</td>\n",
       "      <td>0.7</td>\n",
       "      <td>Africa</td>\n",
       "    </tr>\n",
       "    <tr>\n",
       "      <th>3</th>\n",
       "      <td>Andorra</td>\n",
       "      <td>245</td>\n",
       "      <td>138</td>\n",
       "      <td>312</td>\n",
       "      <td>12.4</td>\n",
       "      <td>Europe</td>\n",
       "    </tr>\n",
       "    <tr>\n",
       "      <th>4</th>\n",
       "      <td>Angola</td>\n",
       "      <td>217</td>\n",
       "      <td>57</td>\n",
       "      <td>45</td>\n",
       "      <td>5.9</td>\n",
       "      <td>Africa</td>\n",
       "    </tr>\n",
       "  </tbody>\n",
       "</table>\n",
       "</div>"
      ],
      "text/plain": [
       "       country  beer_servings  spirit_servings  wine_servings  \\\n",
       "0  Afghanistan              0                0              0   \n",
       "1      Albania             89              132             54   \n",
       "2      Algeria             25                0             14   \n",
       "3      Andorra            245              138            312   \n",
       "4       Angola            217               57             45   \n",
       "\n",
       "   total_litres_of_pure_alcohol Continent  \n",
       "0                           0.0      Asia  \n",
       "1                           4.9    Europe  \n",
       "2                           0.7    Africa  \n",
       "3                          12.4    Europe  \n",
       "4                           5.9    Africa  "
      ]
     },
     "execution_count": 129,
     "metadata": {},
     "output_type": "execute_result"
    }
   ],
   "source": [
    "drink.head()"
   ]
  },
  {
   "cell_type": "code",
   "execution_count": 133,
   "id": "00761e55",
   "metadata": {},
   "outputs": [
    {
     "data": {
      "text/html": [
       "<div>\n",
       "<style scoped>\n",
       "    .dataframe tbody tr th:only-of-type {\n",
       "        vertical-align: middle;\n",
       "    }\n",
       "\n",
       "    .dataframe tbody tr th {\n",
       "        vertical-align: top;\n",
       "    }\n",
       "\n",
       "    .dataframe thead th {\n",
       "        text-align: right;\n",
       "    }\n",
       "</style>\n",
       "<table border=\"1\" class=\"dataframe\">\n",
       "  <thead>\n",
       "    <tr style=\"text-align: right;\">\n",
       "      <th></th>\n",
       "      <th>country</th>\n",
       "      <th>beer_servings</th>\n",
       "      <th>spirit_servings</th>\n",
       "      <th>wine_servings</th>\n",
       "      <th>total_litres_of_pure_alcohol</th>\n",
       "      <th>Continent</th>\n",
       "    </tr>\n",
       "  </thead>\n",
       "  <tbody>\n",
       "    <tr>\n",
       "      <th>188</th>\n",
       "      <td>Venezuela</td>\n",
       "      <td>333</td>\n",
       "      <td>100</td>\n",
       "      <td>3</td>\n",
       "      <td>7.7</td>\n",
       "      <td>South America</td>\n",
       "    </tr>\n",
       "    <tr>\n",
       "      <th>189</th>\n",
       "      <td>Vietnam</td>\n",
       "      <td>111</td>\n",
       "      <td>2</td>\n",
       "      <td>1</td>\n",
       "      <td>2.0</td>\n",
       "      <td>Asia</td>\n",
       "    </tr>\n",
       "    <tr>\n",
       "      <th>190</th>\n",
       "      <td>Yemen</td>\n",
       "      <td>6</td>\n",
       "      <td>0</td>\n",
       "      <td>0</td>\n",
       "      <td>0.1</td>\n",
       "      <td>Asia</td>\n",
       "    </tr>\n",
       "    <tr>\n",
       "      <th>191</th>\n",
       "      <td>Zambia</td>\n",
       "      <td>32</td>\n",
       "      <td>19</td>\n",
       "      <td>4</td>\n",
       "      <td>2.5</td>\n",
       "      <td>Africa</td>\n",
       "    </tr>\n",
       "    <tr>\n",
       "      <th>192</th>\n",
       "      <td>Zimbabwe</td>\n",
       "      <td>64</td>\n",
       "      <td>18</td>\n",
       "      <td>4</td>\n",
       "      <td>4.7</td>\n",
       "      <td>Africa</td>\n",
       "    </tr>\n",
       "  </tbody>\n",
       "</table>\n",
       "</div>"
      ],
      "text/plain": [
       "       country  beer_servings  spirit_servings  wine_servings  \\\n",
       "188  Venezuela            333              100              3   \n",
       "189    Vietnam            111                2              1   \n",
       "190      Yemen              6                0              0   \n",
       "191     Zambia             32               19              4   \n",
       "192   Zimbabwe             64               18              4   \n",
       "\n",
       "     total_litres_of_pure_alcohol      Continent  \n",
       "188                           7.7  South America  \n",
       "189                           2.0           Asia  \n",
       "190                           0.1           Asia  \n",
       "191                           2.5         Africa  \n",
       "192                           4.7         Africa  "
      ]
     },
     "execution_count": 133,
     "metadata": {},
     "output_type": "execute_result"
    }
   ],
   "source": [
    "drink.tail()"
   ]
  },
  {
   "cell_type": "code",
   "execution_count": 132,
   "id": "97057921",
   "metadata": {},
   "outputs": [
    {
     "data": {
      "text/html": [
       "<div>\n",
       "<style scoped>\n",
       "    .dataframe tbody tr th:only-of-type {\n",
       "        vertical-align: middle;\n",
       "    }\n",
       "\n",
       "    .dataframe tbody tr th {\n",
       "        vertical-align: top;\n",
       "    }\n",
       "\n",
       "    .dataframe thead th {\n",
       "        text-align: right;\n",
       "    }\n",
       "</style>\n",
       "<table border=\"1\" class=\"dataframe\">\n",
       "  <thead>\n",
       "    <tr style=\"text-align: right;\">\n",
       "      <th></th>\n",
       "      <th>country</th>\n",
       "      <th>beer_servings</th>\n",
       "      <th>spirit_servings</th>\n",
       "      <th>wine_servings</th>\n",
       "      <th>total_litres_of_pure_alcohol</th>\n",
       "      <th>Continent</th>\n",
       "    </tr>\n",
       "  </thead>\n",
       "  <tbody>\n",
       "    <tr>\n",
       "      <th>0</th>\n",
       "      <td>False</td>\n",
       "      <td>False</td>\n",
       "      <td>False</td>\n",
       "      <td>False</td>\n",
       "      <td>False</td>\n",
       "      <td>False</td>\n",
       "    </tr>\n",
       "    <tr>\n",
       "      <th>1</th>\n",
       "      <td>False</td>\n",
       "      <td>False</td>\n",
       "      <td>False</td>\n",
       "      <td>False</td>\n",
       "      <td>False</td>\n",
       "      <td>False</td>\n",
       "    </tr>\n",
       "    <tr>\n",
       "      <th>2</th>\n",
       "      <td>False</td>\n",
       "      <td>False</td>\n",
       "      <td>False</td>\n",
       "      <td>False</td>\n",
       "      <td>False</td>\n",
       "      <td>False</td>\n",
       "    </tr>\n",
       "    <tr>\n",
       "      <th>3</th>\n",
       "      <td>False</td>\n",
       "      <td>False</td>\n",
       "      <td>False</td>\n",
       "      <td>False</td>\n",
       "      <td>False</td>\n",
       "      <td>False</td>\n",
       "    </tr>\n",
       "    <tr>\n",
       "      <th>4</th>\n",
       "      <td>False</td>\n",
       "      <td>False</td>\n",
       "      <td>False</td>\n",
       "      <td>False</td>\n",
       "      <td>False</td>\n",
       "      <td>False</td>\n",
       "    </tr>\n",
       "  </tbody>\n",
       "</table>\n",
       "</div>"
      ],
      "text/plain": [
       "   country  beer_servings  spirit_servings  wine_servings  \\\n",
       "0    False          False            False          False   \n",
       "1    False          False            False          False   \n",
       "2    False          False            False          False   \n",
       "3    False          False            False          False   \n",
       "4    False          False            False          False   \n",
       "\n",
       "   total_litres_of_pure_alcohol  Continent  \n",
       "0                         False      False  \n",
       "1                         False      False  \n",
       "2                         False      False  \n",
       "3                         False      False  \n",
       "4                         False      False  "
      ]
     },
     "execution_count": 132,
     "metadata": {},
     "output_type": "execute_result"
    }
   ],
   "source": [
    "missing_value = drink.isnull()\n",
    "missing_value.head()"
   ]
  },
  {
   "cell_type": "code",
   "execution_count": 140,
   "id": "56b1ec84",
   "metadata": {},
   "outputs": [
    {
     "data": {
      "text/html": [
       "<div>\n",
       "<style scoped>\n",
       "    .dataframe tbody tr th:only-of-type {\n",
       "        vertical-align: middle;\n",
       "    }\n",
       "\n",
       "    .dataframe tbody tr th {\n",
       "        vertical-align: top;\n",
       "    }\n",
       "\n",
       "    .dataframe thead th {\n",
       "        text-align: right;\n",
       "    }\n",
       "</style>\n",
       "<table border=\"1\" class=\"dataframe\">\n",
       "  <thead>\n",
       "    <tr style=\"text-align: right;\">\n",
       "      <th></th>\n",
       "      <th>Continent</th>\n",
       "      <th>wine_servings</th>\n",
       "    </tr>\n",
       "  </thead>\n",
       "  <tbody>\n",
       "    <tr>\n",
       "      <th>0</th>\n",
       "      <td>Asia</td>\n",
       "      <td>0</td>\n",
       "    </tr>\n",
       "    <tr>\n",
       "      <th>1</th>\n",
       "      <td>Europe</td>\n",
       "      <td>54</td>\n",
       "    </tr>\n",
       "    <tr>\n",
       "      <th>2</th>\n",
       "      <td>Africa</td>\n",
       "      <td>14</td>\n",
       "    </tr>\n",
       "    <tr>\n",
       "      <th>3</th>\n",
       "      <td>Europe</td>\n",
       "      <td>312</td>\n",
       "    </tr>\n",
       "    <tr>\n",
       "      <th>4</th>\n",
       "      <td>Africa</td>\n",
       "      <td>45</td>\n",
       "    </tr>\n",
       "  </tbody>\n",
       "</table>\n",
       "</div>"
      ],
      "text/plain": [
       "  Continent  wine_servings\n",
       "0      Asia              0\n",
       "1    Europe             54\n",
       "2    Africa             14\n",
       "3    Europe            312\n",
       "4    Africa             45"
      ]
     },
     "execution_count": 140,
     "metadata": {},
     "output_type": "execute_result"
    }
   ],
   "source": [
    "# check the number of wine servings per continent\n",
    "drink_group = drink[['Continent','wine_servings']]\n",
    "drink_group.head()"
   ]
  },
  {
   "cell_type": "code",
   "execution_count": 150,
   "id": "51c7fea7",
   "metadata": {},
   "outputs": [
    {
     "data": {
      "text/html": [
       "<div>\n",
       "<style scoped>\n",
       "    .dataframe tbody tr th:only-of-type {\n",
       "        vertical-align: middle;\n",
       "    }\n",
       "\n",
       "    .dataframe tbody tr th {\n",
       "        vertical-align: top;\n",
       "    }\n",
       "\n",
       "    .dataframe thead th {\n",
       "        text-align: right;\n",
       "    }\n",
       "</style>\n",
       "<table border=\"1\" class=\"dataframe\">\n",
       "  <thead>\n",
       "    <tr style=\"text-align: right;\">\n",
       "      <th></th>\n",
       "      <th>wine_servings</th>\n",
       "    </tr>\n",
       "    <tr>\n",
       "      <th>Continent</th>\n",
       "      <th></th>\n",
       "    </tr>\n",
       "  </thead>\n",
       "  <tbody>\n",
       "    <tr>\n",
       "      <th>Africa</th>\n",
       "      <td>691</td>\n",
       "    </tr>\n",
       "    <tr>\n",
       "      <th>Asia</th>\n",
       "      <td>386</td>\n",
       "    </tr>\n",
       "    <tr>\n",
       "      <th>Europe</th>\n",
       "      <td>6258</td>\n",
       "    </tr>\n",
       "    <tr>\n",
       "      <th>North America</th>\n",
       "      <td>314</td>\n",
       "    </tr>\n",
       "    <tr>\n",
       "      <th>Oceania</th>\n",
       "      <td>489</td>\n",
       "    </tr>\n",
       "    <tr>\n",
       "      <th>South America</th>\n",
       "      <td>749</td>\n",
       "    </tr>\n",
       "  </tbody>\n",
       "</table>\n",
       "</div>"
      ],
      "text/plain": [
       "               wine_servings\n",
       "Continent                   \n",
       "Africa                   691\n",
       "Asia                     386\n",
       "Europe                  6258\n",
       "North America            314\n",
       "Oceania                  489\n",
       "South America            749"
      ]
     },
     "execution_count": 150,
     "metadata": {},
     "output_type": "execute_result"
    }
   ],
   "source": [
    "drink_continent = drink_group.groupby(['Continent']).sum()\n",
    "drink_continent"
   ]
  },
  {
   "cell_type": "code",
   "execution_count": 151,
   "id": "d9e87b4a",
   "metadata": {},
   "outputs": [
    {
     "data": {
      "text/html": [
       "<div>\n",
       "<style scoped>\n",
       "    .dataframe tbody tr th:only-of-type {\n",
       "        vertical-align: middle;\n",
       "    }\n",
       "\n",
       "    .dataframe tbody tr th {\n",
       "        vertical-align: top;\n",
       "    }\n",
       "\n",
       "    .dataframe thead th {\n",
       "        text-align: right;\n",
       "    }\n",
       "</style>\n",
       "<table border=\"1\" class=\"dataframe\">\n",
       "  <thead>\n",
       "    <tr style=\"text-align: right;\">\n",
       "      <th></th>\n",
       "      <th>wine_servings</th>\n",
       "    </tr>\n",
       "    <tr>\n",
       "      <th>Continent</th>\n",
       "      <th></th>\n",
       "    </tr>\n",
       "  </thead>\n",
       "  <tbody>\n",
       "    <tr>\n",
       "      <th>Europe</th>\n",
       "      <td>6258</td>\n",
       "    </tr>\n",
       "    <tr>\n",
       "      <th>South America</th>\n",
       "      <td>749</td>\n",
       "    </tr>\n",
       "    <tr>\n",
       "      <th>Africa</th>\n",
       "      <td>691</td>\n",
       "    </tr>\n",
       "    <tr>\n",
       "      <th>Oceania</th>\n",
       "      <td>489</td>\n",
       "    </tr>\n",
       "    <tr>\n",
       "      <th>Asia</th>\n",
       "      <td>386</td>\n",
       "    </tr>\n",
       "    <tr>\n",
       "      <th>North America</th>\n",
       "      <td>314</td>\n",
       "    </tr>\n",
       "  </tbody>\n",
       "</table>\n",
       "</div>"
      ],
      "text/plain": [
       "               wine_servings\n",
       "Continent                   \n",
       "Europe                  6258\n",
       "South America            749\n",
       "Africa                   691\n",
       "Oceania                  489\n",
       "Asia                     386\n",
       "North America            314"
      ]
     },
     "execution_count": 151,
     "metadata": {},
     "output_type": "execute_result"
    }
   ],
   "source": [
    "drink_continent.sort_values(by=['wine_servings'], ascending = False)"
   ]
  },
  {
   "cell_type": "code",
   "execution_count": 156,
   "id": "c7ae4c4e",
   "metadata": {},
   "outputs": [
    {
     "data": {
      "text/html": [
       "<div>\n",
       "<style scoped>\n",
       "    .dataframe tbody tr th:only-of-type {\n",
       "        vertical-align: middle;\n",
       "    }\n",
       "\n",
       "    .dataframe tbody tr th {\n",
       "        vertical-align: top;\n",
       "    }\n",
       "\n",
       "    .dataframe thead th {\n",
       "        text-align: right;\n",
       "    }\n",
       "</style>\n",
       "<table border=\"1\" class=\"dataframe\">\n",
       "  <thead>\n",
       "    <tr style=\"text-align: right;\">\n",
       "      <th></th>\n",
       "      <th>Continent</th>\n",
       "      <th>beer_servings</th>\n",
       "    </tr>\n",
       "  </thead>\n",
       "  <tbody>\n",
       "    <tr>\n",
       "      <th>0</th>\n",
       "      <td>Asia</td>\n",
       "      <td>0</td>\n",
       "    </tr>\n",
       "    <tr>\n",
       "      <th>1</th>\n",
       "      <td>Europe</td>\n",
       "      <td>89</td>\n",
       "    </tr>\n",
       "    <tr>\n",
       "      <th>2</th>\n",
       "      <td>Africa</td>\n",
       "      <td>25</td>\n",
       "    </tr>\n",
       "    <tr>\n",
       "      <th>3</th>\n",
       "      <td>Europe</td>\n",
       "      <td>245</td>\n",
       "    </tr>\n",
       "    <tr>\n",
       "      <th>4</th>\n",
       "      <td>Africa</td>\n",
       "      <td>217</td>\n",
       "    </tr>\n",
       "  </tbody>\n",
       "</table>\n",
       "</div>"
      ],
      "text/plain": [
       "  Continent  beer_servings\n",
       "0      Asia              0\n",
       "1    Europe             89\n",
       "2    Africa             25\n",
       "3    Europe            245\n",
       "4    Africa            217"
      ]
     },
     "execution_count": 156,
     "metadata": {},
     "output_type": "execute_result"
    }
   ],
   "source": [
    "drink_continent_beer = drink[['Continent','beer_servings']]\n",
    "drink_continent_beer.head()"
   ]
  },
  {
   "cell_type": "code",
   "execution_count": 160,
   "id": "e97da33e",
   "metadata": {},
   "outputs": [
    {
     "data": {
      "text/html": [
       "<div>\n",
       "<style scoped>\n",
       "    .dataframe tbody tr th:only-of-type {\n",
       "        vertical-align: middle;\n",
       "    }\n",
       "\n",
       "    .dataframe tbody tr th {\n",
       "        vertical-align: top;\n",
       "    }\n",
       "\n",
       "    .dataframe thead tr th {\n",
       "        text-align: left;\n",
       "    }\n",
       "\n",
       "    .dataframe thead tr:last-of-type th {\n",
       "        text-align: right;\n",
       "    }\n",
       "</style>\n",
       "<table border=\"1\" class=\"dataframe\">\n",
       "  <thead>\n",
       "    <tr>\n",
       "      <th></th>\n",
       "      <th colspan=\"8\" halign=\"left\">beer_servings</th>\n",
       "    </tr>\n",
       "    <tr>\n",
       "      <th></th>\n",
       "      <th>count</th>\n",
       "      <th>mean</th>\n",
       "      <th>std</th>\n",
       "      <th>min</th>\n",
       "      <th>25%</th>\n",
       "      <th>50%</th>\n",
       "      <th>75%</th>\n",
       "      <th>max</th>\n",
       "    </tr>\n",
       "    <tr>\n",
       "      <th>Continent</th>\n",
       "      <th></th>\n",
       "      <th></th>\n",
       "      <th></th>\n",
       "      <th></th>\n",
       "      <th></th>\n",
       "      <th></th>\n",
       "      <th></th>\n",
       "      <th></th>\n",
       "    </tr>\n",
       "  </thead>\n",
       "  <tbody>\n",
       "    <tr>\n",
       "      <th>Africa</th>\n",
       "      <td>48.0</td>\n",
       "      <td>61.750000</td>\n",
       "      <td>83.515192</td>\n",
       "      <td>0.0</td>\n",
       "      <td>11.25</td>\n",
       "      <td>31.5</td>\n",
       "      <td>77.5</td>\n",
       "      <td>376.0</td>\n",
       "    </tr>\n",
       "    <tr>\n",
       "      <th>Asia</th>\n",
       "      <td>40.0</td>\n",
       "      <td>37.100000</td>\n",
       "      <td>48.286963</td>\n",
       "      <td>0.0</td>\n",
       "      <td>5.00</td>\n",
       "      <td>19.5</td>\n",
       "      <td>60.5</td>\n",
       "      <td>247.0</td>\n",
       "    </tr>\n",
       "    <tr>\n",
       "      <th>Europe</th>\n",
       "      <td>43.0</td>\n",
       "      <td>192.627907</td>\n",
       "      <td>96.962443</td>\n",
       "      <td>0.0</td>\n",
       "      <td>130.00</td>\n",
       "      <td>219.0</td>\n",
       "      <td>266.5</td>\n",
       "      <td>346.0</td>\n",
       "    </tr>\n",
       "    <tr>\n",
       "      <th>North America</th>\n",
       "      <td>17.0</td>\n",
       "      <td>136.000000</td>\n",
       "      <td>86.250362</td>\n",
       "      <td>1.0</td>\n",
       "      <td>69.00</td>\n",
       "      <td>122.0</td>\n",
       "      <td>199.0</td>\n",
       "      <td>285.0</td>\n",
       "    </tr>\n",
       "    <tr>\n",
       "      <th>Oceania</th>\n",
       "      <td>14.0</td>\n",
       "      <td>89.071429</td>\n",
       "      <td>97.024552</td>\n",
       "      <td>0.0</td>\n",
       "      <td>24.75</td>\n",
       "      <td>52.5</td>\n",
       "      <td>98.0</td>\n",
       "      <td>306.0</td>\n",
       "    </tr>\n",
       "    <tr>\n",
       "      <th>South America</th>\n",
       "      <td>12.0</td>\n",
       "      <td>175.083333</td>\n",
       "      <td>65.242845</td>\n",
       "      <td>93.0</td>\n",
       "      <td>129.50</td>\n",
       "      <td>162.5</td>\n",
       "      <td>198.0</td>\n",
       "      <td>333.0</td>\n",
       "    </tr>\n",
       "  </tbody>\n",
       "</table>\n",
       "</div>"
      ],
      "text/plain": [
       "              beer_servings                                              \\\n",
       "                      count        mean        std   min     25%    50%   \n",
       "Continent                                                                 \n",
       "Africa                 48.0   61.750000  83.515192   0.0   11.25   31.5   \n",
       "Asia                   40.0   37.100000  48.286963   0.0    5.00   19.5   \n",
       "Europe                 43.0  192.627907  96.962443   0.0  130.00  219.0   \n",
       "North America          17.0  136.000000  86.250362   1.0   69.00  122.0   \n",
       "Oceania                14.0   89.071429  97.024552   0.0   24.75   52.5   \n",
       "South America          12.0  175.083333  65.242845  93.0  129.50  162.5   \n",
       "\n",
       "                             \n",
       "                 75%    max  \n",
       "Continent                    \n",
       "Africa          77.5  376.0  \n",
       "Asia            60.5  247.0  \n",
       "Europe         266.5  346.0  \n",
       "North America  199.0  285.0  \n",
       "Oceania         98.0  306.0  \n",
       "South America  198.0  333.0  "
      ]
     },
     "execution_count": 160,
     "metadata": {},
     "output_type": "execute_result"
    }
   ],
   "source": [
    "# Perform a statistical summary and analysis of beer servings for each continent\n",
    "drink_continent_beer.groupby([\"Continent\"]).describe()"
   ]
  },
  {
   "cell_type": "code",
   "execution_count": 193,
   "id": "2330b4ef",
   "metadata": {},
   "outputs": [
    {
     "data": {
      "text/plain": [
       "[Text(0.5, 1.0, 'Beer_servings by continents')]"
      ]
     },
     "execution_count": 193,
     "metadata": {},
     "output_type": "execute_result"
    },
    {
     "data": {
      "image/png": "[encoded data removed]",
      "text/plain": [
       "<Figure size 432x288 with 1 Axes>"
      ]
     },
     "metadata": {},
     "output_type": "display_data"
    }
   ],
   "source": [
    "sns.set(style='whitegrid')\n",
    "sns.boxplot(x='Continent', y = 'beer_servings', data = drink_continent_beer).set(title = 'Beer_servings by continents')"
   ]
  },
  {
   "cell_type": "code",
   "execution_count": 198,
   "id": "40e452df",
   "metadata": {},
   "outputs": [
    {
     "data": {
      "text/plain": [
       "[Text(0.5, 1.0, 'Wine_servings vs Beer_servings')]"
      ]
     },
     "execution_count": 198,
     "metadata": {},
     "output_type": "execute_result"
    },
    {
     "data": {
      "image/png": "[encoded data removed]",
      "text/plain": [
       "<Figure size 432x288 with 1 Axes>"
      ]
     },
     "metadata": {},
     "output_type": "display_data"
    }
   ],
   "source": [
    "# If the number of wine servings is negatively or positively correlated with the number of beer servings.\n",
    "sns.regplot(x = drink[['wine_servings']], y= drink[['beer_servings']]).set(title = 'Wine_servings vs Beer_servings')"
   ]
  },
  {
   "cell_type": "code",
   "execution_count": 199,
   "id": "d3aa020e",
   "metadata": {},
   "outputs": [
    {
     "data": {
      "text/html": [
       "<div>\n",
       "<style scoped>\n",
       "    .dataframe tbody tr th:only-of-type {\n",
       "        vertical-align: middle;\n",
       "    }\n",
       "\n",
       "    .dataframe tbody tr th {\n",
       "        vertical-align: top;\n",
       "    }\n",
       "\n",
       "    .dataframe thead th {\n",
       "        text-align: right;\n",
       "    }\n",
       "</style>\n",
       "<table border=\"1\" class=\"dataframe\">\n",
       "  <thead>\n",
       "    <tr style=\"text-align: right;\">\n",
       "      <th></th>\n",
       "      <th>beer_servings</th>\n",
       "      <th>spirit_servings</th>\n",
       "      <th>wine_servings</th>\n",
       "      <th>total_litres_of_pure_alcohol</th>\n",
       "    </tr>\n",
       "  </thead>\n",
       "  <tbody>\n",
       "    <tr>\n",
       "      <th>beer_servings</th>\n",
       "      <td>1.000000</td>\n",
       "      <td>0.458819</td>\n",
       "      <td>0.527172</td>\n",
       "      <td>0.835839</td>\n",
       "    </tr>\n",
       "    <tr>\n",
       "      <th>spirit_servings</th>\n",
       "      <td>0.458819</td>\n",
       "      <td>1.000000</td>\n",
       "      <td>0.194797</td>\n",
       "      <td>0.654968</td>\n",
       "    </tr>\n",
       "    <tr>\n",
       "      <th>wine_servings</th>\n",
       "      <td>0.527172</td>\n",
       "      <td>0.194797</td>\n",
       "      <td>1.000000</td>\n",
       "      <td>0.667598</td>\n",
       "    </tr>\n",
       "    <tr>\n",
       "      <th>total_litres_of_pure_alcohol</th>\n",
       "      <td>0.835839</td>\n",
       "      <td>0.654968</td>\n",
       "      <td>0.667598</td>\n",
       "      <td>1.000000</td>\n",
       "    </tr>\n",
       "  </tbody>\n",
       "</table>\n",
       "</div>"
      ],
      "text/plain": [
       "                              beer_servings  spirit_servings  wine_servings  \\\n",
       "beer_servings                      1.000000         0.458819       0.527172   \n",
       "spirit_servings                    0.458819         1.000000       0.194797   \n",
       "wine_servings                      0.527172         0.194797       1.000000   \n",
       "total_litres_of_pure_alcohol       0.835839         0.654968       0.667598   \n",
       "\n",
       "                              total_litres_of_pure_alcohol  \n",
       "beer_servings                                     0.835839  \n",
       "spirit_servings                                   0.654968  \n",
       "wine_servings                                     0.667598  \n",
       "total_litres_of_pure_alcohol                      1.000000  "
      ]
     },
     "execution_count": 199,
     "metadata": {},
     "output_type": "execute_result"
    }
   ],
   "source": [
    "drink.corr()"
   ]
  },
  {
   "cell_type": "code",
   "execution_count": 205,
   "id": "6dda8fcf",
   "metadata": {},
   "outputs": [
    {
     "data": {
      "text/plain": [
       "[Text(0.5, 1.0, 'correlation between different drink vs total consumption of alcohol')]"
      ]
     },
     "execution_count": 205,
     "metadata": {},
     "output_type": "execute_result"
    },
    {
     "data": {
      "image/png": "[encoded data removed]",
      "text/plain": [
       "<Figure size 432x288 with 2 Axes>"
      ]
     },
     "metadata": {},
     "output_type": "display_data"
    }
   ],
   "source": [
    "sns.heatmap(drink.corr(),cmap='YlGnBu',annot = True).set(title =\"correlation between different drink vs total consumption of alcohol\")"
   ]
  },
  {
   "cell_type": "markdown",
   "id": "e401b80c",
   "metadata": {},
   "source": [
    "### Compare SLR and MLR models by R^2 and MSE"
   ]
  },
  {
   "cell_type": "code",
   "execution_count": 242,
   "id": "ba22ef5a",
   "metadata": {},
   "outputs": [],
   "source": [
    "#Fit a linear regression model to predict\n",
    "import sklearn\n",
    "from sklearn.linear_model import LinearRegression"
   ]
  },
  {
   "cell_type": "code",
   "execution_count": 243,
   "id": "a41bdf9f",
   "metadata": {},
   "outputs": [
    {
     "data": {
      "text/plain": [
       "LinearRegression()"
      ]
     },
     "execution_count": 243,
     "metadata": {},
     "output_type": "execute_result"
    }
   ],
   "source": [
    "lm = LinearRegression()\n",
    "lm"
   ]
  },
  {
   "cell_type": "code",
   "execution_count": 287,
   "id": "6ef5b86d",
   "metadata": {},
   "outputs": [
    {
     "data": {
      "text/plain": [
       "LinearRegression()"
      ]
     },
     "execution_count": 287,
     "metadata": {},
     "output_type": "execute_result"
    }
   ],
   "source": [
    "x = drink[['wine_servings']]\n",
    "y = drink['total_litres_of_pure_alcohol']\n",
    "lm.fit(x,y)"
   ]
  },
  {
   "cell_type": "code",
   "execution_count": 288,
   "id": "cf196a85",
   "metadata": {},
   "outputs": [
    {
     "data": {
      "text/plain": [
       "array([ 3.15407943,  4.86088833,  3.59658545, 13.01564196,  4.57642018])"
      ]
     },
     "execution_count": 288,
     "metadata": {},
     "output_type": "execute_result"
    }
   ],
   "source": [
    "yhat_wine = lm.predict(x)\n",
    "yhat_wine[0:5]"
   ]
  },
  {
   "cell_type": "code",
   "execution_count": 289,
   "id": "f2b78526",
   "metadata": {},
   "outputs": [
    {
     "data": {
      "text/plain": [
       "0.4456875459787605"
      ]
     },
     "execution_count": 289,
     "metadata": {},
     "output_type": "execute_result"
    }
   ],
   "source": [
    "lm.score(x,y)"
   ]
  },
  {
   "cell_type": "code",
   "execution_count": null,
   "id": "86fff61f",
   "metadata": {},
   "outputs": [],
   "source": [
    "from sklearn.metrics import mean_squared_error"
   ]
  },
  {
   "cell_type": "code",
   "execution_count": 290,
   "id": "e1473f63",
   "metadata": {},
   "outputs": [
    {
     "data": {
      "text/plain": [
       "7.851286122663144"
      ]
     },
     "execution_count": 290,
     "metadata": {},
     "output_type": "execute_result"
    }
   ],
   "source": [
    "mse = mean_squared_error(y,yhat_wine)\n",
    "mse"
   ]
  },
  {
   "cell_type": "code",
   "execution_count": 291,
   "id": "1c4e1576",
   "metadata": {},
   "outputs": [
    {
     "data": {
      "image/png": "[encoded data removed]",
      "text/plain": [
       "<Figure size 432x288 with 1 Axes>"
      ]
     },
     "metadata": {},
     "output_type": "display_data"
    }
   ],
   "source": [
    "ax1 = sns.kdeplot(drink['total_litres_of_pure_alcohol'], color = 'r', label = 'acutal values')\n",
    "sns.kdeplot(yhat_wine, color = 'b', label = 'fitted values', ax = ax1)\n",
    "ax1.set_title('actual vs. fitted values for total alcohol consumption')\n",
    "plt.show()"
   ]
  },
  {
   "cell_type": "markdown",
   "id": "4bd0b82c",
   "metadata": {},
   "source": [
    "#### The linear regression model doesn't work "
   ]
  },
  {
   "cell_type": "code",
   "execution_count": 292,
   "id": "ee5bb927",
   "metadata": {},
   "outputs": [
    {
     "data": {
      "text/plain": [
       "LinearRegression()"
      ]
     },
     "execution_count": 292,
     "metadata": {},
     "output_type": "execute_result"
    }
   ],
   "source": [
    "x = drink[['beer_servings','spirit_servings','wine_servings']]\n",
    "y = drink['total_litres_of_pure_alcohol']\n",
    "lm.fit(x,y)"
   ]
  },
  {
   "cell_type": "code",
   "execution_count": 293,
   "id": "ec9cebeb",
   "metadata": {},
   "outputs": [
    {
     "data": {
      "text/plain": [
       "array([ 0.72244985,  5.26936613,  1.40409598, 12.34732018,  6.30123153])"
      ]
     },
     "execution_count": 293,
     "metadata": {},
     "output_type": "execute_result"
    }
   ],
   "source": [
    "yhat = lm.predict(x)\n",
    "yhat[0:5]"
   ]
  },
  {
   "cell_type": "code",
   "execution_count": 294,
   "id": "07a16536",
   "metadata": {},
   "outputs": [
    {
     "data": {
      "text/plain": [
       "0.7224498487088455"
      ]
     },
     "execution_count": 294,
     "metadata": {},
     "output_type": "execute_result"
    }
   ],
   "source": [
    "lm.intercept_"
   ]
  },
  {
   "cell_type": "code",
   "execution_count": 295,
   "id": "ab47c6a7",
   "metadata": {},
   "outputs": [
    {
     "data": {
      "text/plain": [
       "array([0.01830291, 0.01555814, 0.01600524])"
      ]
     },
     "execution_count": 295,
     "metadata": {},
     "output_type": "execute_result"
    }
   ],
   "source": [
    "lm.coef_"
   ]
  },
  {
   "cell_type": "code",
   "execution_count": 258,
   "id": "2b5049dd",
   "metadata": {},
   "outputs": [
    {
     "data": {
      "text/plain": [
       "0.8741728224192638"
      ]
     },
     "execution_count": 258,
     "metadata": {},
     "output_type": "execute_result"
    }
   ],
   "source": [
    "lm.score(x,y)"
   ]
  },
  {
   "cell_type": "code",
   "execution_count": 297,
   "id": "e7975ef3",
   "metadata": {},
   "outputs": [
    {
     "data": {
      "text/plain": [
       "1.7822171701660017"
      ]
     },
     "execution_count": 297,
     "metadata": {},
     "output_type": "execute_result"
    }
   ],
   "source": [
    "mse = mean_squared_error(y,yhat)\n",
    "mse"
   ]
  },
  {
   "cell_type": "code",
   "execution_count": 298,
   "id": "528dea32",
   "metadata": {},
   "outputs": [
    {
     "data": {
      "image/png": "[encoded data removed]",
      "text/plain": [
       "<Figure size 432x288 with 1 Axes>"
      ]
     },
     "metadata": {},
     "output_type": "display_data"
    }
   ],
   "source": [
    "ax1 = sns.kdeplot(drink['total_litres_of_pure_alcohol'], color = 'r', label = 'acutal values')\n",
    "sns.kdeplot(yhat, color = 'b', label = 'fitted values', ax = ax1)\n",
    "ax1.set_title('actual vs. fitted values for total alcohol consumption')\n",
    "plt.show()"
   ]
  },
  {
   "cell_type": "markdown",
   "id": "2f54f3ea",
   "metadata": {},
   "source": [
    "#### This multiple linear regression model is overfitting "
   ]
  },
  {
   "cell_type": "code",
   "execution_count": 264,
   "id": "93e170bb",
   "metadata": {},
   "outputs": [
    {
     "name": "stdout",
     "output_type": "stream",
     "text": [
      "number of test samples: 20\n",
      "number of trating samples: 173\n"
     ]
    }
   ],
   "source": [
    "# traing data \n",
    "x_data = drink[['beer_servings','spirit_servings','wine_servings']]\n",
    "y_data = drink['total_litres_of_pure_alcohol']\n",
    "from sklearn.model_selection import train_test_split\n",
    "x_train,x_test,y_train,y_test = train_test_split(x_data, y_data, test_size = 0.1, random_state = 0)\n",
    "print('number of test samples:', x_test.shape[0])\n",
    "print('number of trating samples:',x_train.shape[0])"
   ]
  },
  {
   "cell_type": "code",
   "execution_count": 265,
   "id": "e11403eb",
   "metadata": {},
   "outputs": [],
   "source": [
    "lm_train = LinearRegression()"
   ]
  },
  {
   "cell_type": "code",
   "execution_count": 266,
   "id": "cc21df14",
   "metadata": {},
   "outputs": [
    {
     "data": {
      "text/plain": [
       "LinearRegression()"
      ]
     },
     "execution_count": 266,
     "metadata": {},
     "output_type": "execute_result"
    }
   ],
   "source": [
    "lm_train.fit(x_train,y_train)"
   ]
  },
  {
   "cell_type": "code",
   "execution_count": 268,
   "id": "e31c2efd",
   "metadata": {},
   "outputs": [
    {
     "data": {
      "text/plain": [
       "0.8843621858666174"
      ]
     },
     "execution_count": 268,
     "metadata": {},
     "output_type": "execute_result"
    }
   ],
   "source": [
    "lm_train.score(x_train,y_train)"
   ]
  },
  {
   "cell_type": "code",
   "execution_count": 269,
   "id": "5f7521ce",
   "metadata": {},
   "outputs": [
    {
     "data": {
      "text/plain": [
       "0.6990304512837944"
      ]
     },
     "execution_count": 269,
     "metadata": {},
     "output_type": "execute_result"
    }
   ],
   "source": [
    "lm_train.score(x_test,y_test)"
   ]
  },
  {
   "cell_type": "markdown",
   "id": "11719158",
   "metadata": {},
   "source": [
    "## Create pipeline"
   ]
  },
  {
   "cell_type": "code",
   "execution_count": 271,
   "id": "a29d685a",
   "metadata": {},
   "outputs": [],
   "source": [
    "from sklearn.pipeline import Pipeline\n",
    "from sklearn.preprocessing import StandardScaler,PolynomialFeatures"
   ]
  },
  {
   "cell_type": "code",
   "execution_count": 272,
   "id": "c2441aa2",
   "metadata": {},
   "outputs": [],
   "source": [
    "Input=[('scale',StandardScaler()), ('polynomial', PolynomialFeatures(include_bias=False)), ('model',LinearRegression())]"
   ]
  },
  {
   "cell_type": "code",
   "execution_count": 274,
   "id": "a0d59ed2",
   "metadata": {},
   "outputs": [
    {
     "data": {
      "text/plain": [
       "Pipeline(steps=[('scale', StandardScaler()),\n",
       "                ('polynomial', PolynomialFeatures(include_bias=False)),\n",
       "                ('model', LinearRegression())])"
      ]
     },
     "execution_count": 274,
     "metadata": {},
     "output_type": "execute_result"
    }
   ],
   "source": [
    "pipe = Pipeline(Input)\n",
    "pipe"
   ]
  },
  {
   "cell_type": "code",
   "execution_count": 278,
   "id": "415f6536",
   "metadata": {},
   "outputs": [
    {
     "data": {
      "text/plain": [
       "Pipeline(steps=[('scale', StandardScaler()),\n",
       "                ('polynomial', PolynomialFeatures(include_bias=False)),\n",
       "                ('model', LinearRegression())])"
      ]
     },
     "execution_count": 278,
     "metadata": {},
     "output_type": "execute_result"
    }
   ],
   "source": [
    "z =  drink[['beer_servings','spirit_servings','wine_servings']]\n",
    "Z = z.astype(float)\n",
    "pipe.fit(Z,y)"
   ]
  },
  {
   "cell_type": "code",
   "execution_count": 279,
   "id": "ab848222",
   "metadata": {},
   "outputs": [
    {
     "data": {
      "text/plain": [
       "array([ 0.66771682,  5.02238617,  1.58272774, 12.65988765])"
      ]
     },
     "execution_count": 279,
     "metadata": {},
     "output_type": "execute_result"
    }
   ],
   "source": [
    "ypipe = pipe.predict(Z)\n",
    "ypipe[0:4]"
   ]
  },
  {
   "cell_type": "code",
   "execution_count": 280,
   "id": "e9f9f73c",
   "metadata": {},
   "outputs": [],
   "source": [
    "Input=[('scale',StandardScaler()), ('model',LinearRegression())]\n",
    "pipe = Pipeline(Input)"
   ]
  },
  {
   "cell_type": "code",
   "execution_count": 281,
   "id": "2386b97f",
   "metadata": {},
   "outputs": [
    {
     "data": {
      "text/plain": [
       "Pipeline(steps=[('scale', StandardScaler()), ('model', LinearRegression())])"
      ]
     },
     "execution_count": 281,
     "metadata": {},
     "output_type": "execute_result"
    }
   ],
   "source": [
    "pipe.fit(Z,y)"
   ]
  },
  {
   "cell_type": "code",
   "execution_count": 282,
   "id": "d7c48588",
   "metadata": {},
   "outputs": [
    {
     "data": {
      "text/plain": [
       "array([ 0.72244985,  5.26936613,  1.40409598, 12.34732018])"
      ]
     },
     "execution_count": 282,
     "metadata": {},
     "output_type": "execute_result"
    }
   ],
   "source": [
    "ypipe = pipe.predict(Z)\n",
    "ypipe[0:4]"
   ]
  },
  {
   "cell_type": "markdown",
   "id": "e500cbed",
   "metadata": {},
   "source": [
    "### Refine the model"
   ]
  },
  {
   "cell_type": "markdown",
   "id": "f304bea3",
   "metadata": {},
   "source": [
    "#### Use polynomial transformation to test the data"
   ]
  },
  {
   "cell_type": "code",
   "execution_count": 336,
   "id": "15b20c6d",
   "metadata": {},
   "outputs": [],
   "source": [
    "from sklearn. preprocessing import PolynomialFeatures"
   ]
  },
  {
   "cell_type": "code",
   "execution_count": 337,
   "id": "77c95f3e",
   "metadata": {},
   "outputs": [],
   "source": [
    "lre = LinearRegression()"
   ]
  },
  {
   "cell_type": "code",
   "execution_count": 338,
   "id": "3c95de9e",
   "metadata": {},
   "outputs": [
    {
     "name": "stdout",
     "output_type": "stream",
     "text": [
      "number of test samples: 20\n",
      "number of trating samples: 173\n"
     ]
    }
   ],
   "source": [
    "x_data = drink[['beer_servings','spirit_servings','wine_servings']]\n",
    "y_data = drink['total_litres_of_pure_alcohol']\n",
    "x_train,x_test,y_train,y_test = train_test_split(x_data, y_data, test_size = 0.1, random_state = 0)\n",
    "print('number of test samples:', x_test.shape[0])\n",
    "print('number of trating samples:',x_train.shape[0])"
   ]
  },
  {
   "cell_type": "code",
   "execution_count": 341,
   "id": "bf71d7e7",
   "metadata": {},
   "outputs": [
    {
     "data": {
      "image/png": "[encoded data removed]",
      "text/plain": [
       "<Figure size 432x288 with 1 Axes>"
      ]
     },
     "metadata": {},
     "output_type": "display_data"
    }
   ],
   "source": [
    "Rsqu_test = []\n",
    "order = [1,2,3,4,5]\n",
    "for n in order:\n",
    "    pr = PolynomialFeatures(degree = n)\n",
    "    x_train_pr = pr.fit_transform(x_train)\n",
    "    x_test_pr = pr.fit_transform(x_test)\n",
    "    lre.fit(x_train_pr,y_train)\n",
    "    Rsqu_test.append(lre.score(x_test_pr,y_test))\n",
    "    \n",
    "plt.plot(order,Rsqu_test)\n",
    "plt.show()"
   ]
  },
  {
   "cell_type": "markdown",
   "id": "5ad63a53",
   "metadata": {},
   "source": [
    "**R^2 drops drastically after degree = 4**"
   ]
  },
  {
   "cell_type": "code",
   "execution_count": 342,
   "id": "bda75b47",
   "metadata": {},
   "outputs": [
    {
     "data": {
      "text/plain": [
       "PolynomialFeatures()"
      ]
     },
     "execution_count": 342,
     "metadata": {},
     "output_type": "execute_result"
    }
   ],
   "source": [
    "pr_2 = PolynomialFeatures(degree = 2)\n",
    "x_train_pr2 = pr_2.fit_transform(x_train)\n",
    "x_test_pr2 = pr_2.fit_transform(x_test)\n",
    "pr_2"
   ]
  },
  {
   "cell_type": "code",
   "execution_count": 343,
   "id": "99bb0fa9",
   "metadata": {},
   "outputs": [
    {
     "data": {
      "text/plain": [
       "LinearRegression()"
      ]
     },
     "execution_count": 343,
     "metadata": {},
     "output_type": "execute_result"
    }
   ],
   "source": [
    "poly_2 = LinearRegression()\n",
    "poly_2.fit(x_train_pr2,y_train)"
   ]
  },
  {
   "cell_type": "code",
   "execution_count": 344,
   "id": "961e7787",
   "metadata": {},
   "outputs": [
    {
     "data": {
      "text/plain": [
       "0.8981586745966471"
      ]
     },
     "execution_count": 344,
     "metadata": {},
     "output_type": "execute_result"
    }
   ],
   "source": [
    "poly_2.score(x_train_pr2,y_train)"
   ]
  },
  {
   "cell_type": "code",
   "execution_count": 345,
   "id": "8a020316",
   "metadata": {},
   "outputs": [
    {
     "data": {
      "text/plain": [
       "PolynomialFeatures(degree=5)"
      ]
     },
     "execution_count": 345,
     "metadata": {},
     "output_type": "execute_result"
    }
   ],
   "source": [
    "pr_4 = PolynomialFeatures(degree = 5)\n",
    "x_train_pr4 = pr_4.fit_transform(x_train)\n",
    "x_test_pr4 = pr_4.fit_transform(x_test)\n",
    "pr_4"
   ]
  },
  {
   "cell_type": "code",
   "execution_count": 346,
   "id": "f5745967",
   "metadata": {},
   "outputs": [
    {
     "data": {
      "text/plain": [
       "0.9295005008015532"
      ]
     },
     "execution_count": 346,
     "metadata": {},
     "output_type": "execute_result"
    }
   ],
   "source": [
    "poly_4 = LinearRegression()\n",
    "poly_4.fit(x_train_pr4,y_train)\n",
    "poly_4.score(x_train_pr4,y_train)"
   ]
  },
  {
   "cell_type": "code",
   "execution_count": 353,
   "id": "f97e8e3e",
   "metadata": {},
   "outputs": [
    {
     "data": {
      "text/plain": [
       "array([1.68792435, 0.43616722, 0.11436954, 2.17794693])"
      ]
     },
     "execution_count": 353,
     "metadata": {},
     "output_type": "execute_result"
    }
   ],
   "source": [
    "yhat_poly4 = poly_4.predict(x_train_pr4)\n",
    "yhat_poly4[0:4]"
   ]
  },
  {
   "cell_type": "code",
   "execution_count": 354,
   "id": "5016061e",
   "metadata": {},
   "outputs": [
    {
     "data": {
      "image/png": "[encoded data removed]",
      "text/plain": [
       "<Figure size 432x288 with 1 Axes>"
      ]
     },
     "metadata": {},
     "output_type": "display_data"
    }
   ],
   "source": [
    "ax1 = sns.kdeplot(y_data, color = 'r', label = 'acutal values')\n",
    "sns.kdeplot(yhat_poly4, color = 'b', label = 'fitted values', ax = ax1)\n",
    "ax1.set_title('actual vs. fitted values for total alcohol consumption')\n",
    "plt.show()"
   ]
  },
  {
   "cell_type": "code",
   "execution_count": 355,
   "id": "9d85bad2",
   "metadata": {},
   "outputs": [
    {
     "data": {
      "text/plain": [
       "array([0.11436954, 4.57384968, 8.56254565, 0.33460464])"
      ]
     },
     "execution_count": 355,
     "metadata": {},
     "output_type": "execute_result"
    }
   ],
   "source": [
    "yhat_poly4_2 = poly_4.predict(x_test_pr4)\n",
    "yhat_poly4_2[0:4]"
   ]
  },
  {
   "cell_type": "code",
   "execution_count": 356,
   "id": "f2e99b4c",
   "metadata": {},
   "outputs": [
    {
     "data": {
      "image/png": "[encoded data removed]",
      "text/plain": [
       "<Figure size 432x288 with 1 Axes>"
      ]
     },
     "metadata": {},
     "output_type": "display_data"
    }
   ],
   "source": [
    "ax1 = sns.kdeplot(y_data, color = 'r', label = 'acutal values')\n",
    "sns.kdeplot(yhat_poly4_2, color = 'b', label = 'fitted values', ax = ax1)\n",
    "ax1.set_title('actual vs. fitted values for total alcohol consumption')\n",
    "plt.show()"
   ]
  },
  {
   "cell_type": "markdown",
   "id": "760042ec",
   "metadata": {},
   "source": [
    "**degree = 4 overfitting**"
   ]
  },
  {
   "cell_type": "code",
   "execution_count": 350,
   "id": "b51f709b",
   "metadata": {},
   "outputs": [
    {
     "data": {
      "text/plain": [
       "0.5304477671496812"
      ]
     },
     "execution_count": 350,
     "metadata": {},
     "output_type": "execute_result"
    }
   ],
   "source": [
    "poly_4.score(x_test_pr4,y_test)"
   ]
  },
  {
   "cell_type": "code",
   "execution_count": 351,
   "id": "05b3f8b2",
   "metadata": {},
   "outputs": [
    {
     "data": {
      "text/plain": [
       "0.7076376133886052"
      ]
     },
     "execution_count": 351,
     "metadata": {},
     "output_type": "execute_result"
    }
   ],
   "source": [
    "poly_2.score(x_test_pr2,y_test)"
   ]
  },
  {
   "cell_type": "code",
   "execution_count": 357,
   "id": "3904ab8c",
   "metadata": {},
   "outputs": [
    {
     "data": {
      "text/plain": [
       "array([1.68792435, 0.43616722, 0.11436954, 2.17794693])"
      ]
     },
     "execution_count": 357,
     "metadata": {},
     "output_type": "execute_result"
    }
   ],
   "source": [
    "yhat_poly2 = poly_2.predict(x_train_pr2)\n",
    "yhat_poly4[0:4]"
   ]
  },
  {
   "cell_type": "code",
   "execution_count": 358,
   "id": "483cdf33",
   "metadata": {},
   "outputs": [
    {
     "data": {
      "image/png": "[encoded data removed]",
      "text/plain": [
       "<Figure size 432x288 with 1 Axes>"
      ]
     },
     "metadata": {},
     "output_type": "display_data"
    }
   ],
   "source": [
    "ax1 = sns.kdeplot(y_data, color = 'r', label = 'acutal values')\n",
    "sns.kdeplot(yhat_poly2, color = 'b', label = 'fitted values', ax = ax1)\n",
    "ax1.set_title('actual vs. fitted values for total alcohol consumption')\n",
    "plt.show()"
   ]
  },
  {
   "cell_type": "code",
   "execution_count": 359,
   "id": "64506386",
   "metadata": {},
   "outputs": [
    {
     "data": {
      "text/plain": [
       "array([0.67483964, 4.4123025 , 8.54359816, 0.7845907 ])"
      ]
     },
     "execution_count": 359,
     "metadata": {},
     "output_type": "execute_result"
    }
   ],
   "source": [
    "yhat_poly2_2 = poly_2.predict(x_test_pr2)\n",
    "yhat_poly2_2[0:4]"
   ]
  },
  {
   "cell_type": "code",
   "execution_count": 360,
   "id": "f3a59dca",
   "metadata": {},
   "outputs": [
    {
     "data": {
      "image/png": "[encoded data removed]",
      "text/plain": [
       "<Figure size 432x288 with 1 Axes>"
      ]
     },
     "metadata": {},
     "output_type": "display_data"
    }
   ],
   "source": [
    "ax1 = sns.kdeplot(y_data, color = 'r', label = 'acutal values')\n",
    "sns.kdeplot(yhat_poly2_2, color = 'b', label = 'fitted values', ax = ax1)\n",
    "ax1.set_title('actual vs. fitted values for total alcohol consumption')\n",
    "plt.show()"
   ]
  },
  {
   "cell_type": "markdown",
   "id": "ec89ac58",
   "metadata": {},
   "source": [
    "**Both Polynomial regression seems overfitting, expecailly when degree = 4**"
   ]
  },
  {
   "cell_type": "markdown",
   "id": "5fcb535a",
   "metadata": {},
   "source": [
    "### Ridge regression"
   ]
  },
  {
   "cell_type": "code",
   "execution_count": 361,
   "id": "2210de6b",
   "metadata": {},
   "outputs": [],
   "source": [
    "from sklearn.linear_model import Ridge"
   ]
  },
  {
   "cell_type": "code",
   "execution_count": 362,
   "id": "a40ba9b1",
   "metadata": {},
   "outputs": [],
   "source": [
    "RigeModel = Ridge(alpha = 1)"
   ]
  },
  {
   "cell_type": "code",
   "execution_count": 363,
   "id": "037e6400",
   "metadata": {},
   "outputs": [
    {
     "data": {
      "text/plain": [
       "Ridge(alpha=1)"
      ]
     },
     "execution_count": 363,
     "metadata": {},
     "output_type": "execute_result"
    }
   ],
   "source": [
    "RigeModel.fit(x_train_pr2,y_train)"
   ]
  },
  {
   "cell_type": "code",
   "execution_count": 364,
   "id": "3f1cde27",
   "metadata": {},
   "outputs": [
    {
     "data": {
      "text/plain": [
       "0.7076377075908595"
      ]
     },
     "execution_count": 364,
     "metadata": {},
     "output_type": "execute_result"
    }
   ],
   "source": [
    "RigeModel.score(x_test_pr2,y_test)"
   ]
  },
  {
   "cell_type": "code",
   "execution_count": 366,
   "id": "0333553a",
   "metadata": {},
   "outputs": [
    {
     "data": {
      "text/plain": [
       "array([0.67484765, 4.41230526, 8.54358889, 0.78459798])"
      ]
     },
     "execution_count": 366,
     "metadata": {},
     "output_type": "execute_result"
    }
   ],
   "source": [
    "yhat_new = RigeModel.predict(x_test_pr2)\n",
    "yhat_new[0:4]"
   ]
  },
  {
   "cell_type": "code",
   "execution_count": 369,
   "id": "13ecf116",
   "metadata": {},
   "outputs": [
    {
     "name": "stdout",
     "output_type": "stream",
     "text": [
      "predicted:  [0.67484765 4.41230526 8.54358889 0.78459798]\n",
      "actual:  [0.  4.6 8.2 0.1]\n"
     ]
    }
   ],
   "source": [
    "print('predicted: ',yhat_new[0:4])\n",
    "print('actual: ',y_test[0:4].values)"
   ]
  },
  {
   "cell_type": "code",
   "execution_count": 370,
   "id": "b1d08c2c",
   "metadata": {},
   "outputs": [],
   "source": [
    "from tqdm import tqdm"
   ]
  },
  {
   "cell_type": "code",
   "execution_count": 381,
   "id": "9e27b2b8",
   "metadata": {},
   "outputs": [
    {
     "name": "stderr",
     "output_type": "stream",
     "text": [
      "100%|██████████████████████████████████████| 10000/10000 [01:13<00:00, 135.41it/s, Test score=0.708, Train score=0.898]\n"
     ]
    }
   ],
   "source": [
    "Rsqu_test = []\n",
    "Rsqu_train = []\n",
    "dummy_1 = []\n",
    "Alpha = 10 * np.array(range(0,10000))\n",
    "pbar = tqdm(Alpha)\n",
    "\n",
    "for alpha in pbar:\n",
    "    RigeModel = Ridge(alpha = 1)\n",
    "    RigeModel.fit(x_train_pr2,y_train)\n",
    "    test_score, train_score = RigeModel.score(x_test_pr2,y_test), RigeModel.score(x_train_pr2,y_train)\n",
    "    pbar.set_postfix({'Test score': test_score, 'Train score' : train_score})\n",
    "    Rsqu_test.append(test_score)\n",
    "    Rsqu_train.append(train_score)"
   ]
  },
  {
   "cell_type": "code",
   "execution_count": 382,
   "id": "3168b61c",
   "metadata": {},
   "outputs": [
    {
     "data": {
      "image/png": "[encoded data removed]",
      "text/plain": [
       "<Figure size 432x288 with 1 Axes>"
      ]
     },
     "metadata": {},
     "output_type": "display_data"
    }
   ],
   "source": [
    "plt.plot(Alpha, Rsqu_test,label = 'Validation data')\n",
    "plt.plot(Alpha,Rsqu_train,'r',label='Training data')\n",
    "plt.xlabel('alpha')\n",
    "plt.ylabel('R^2')\n",
    "plt.legend()\n",
    "plt.show()"
   ]
  },
  {
   "cell_type": "markdown",
   "id": "a4a671a0",
   "metadata": {},
   "source": [
    "**The change of alpha has no effect on R^2**"
   ]
  },
  {
   "cell_type": "markdown",
   "id": "8734015d",
   "metadata": {},
   "source": [
    "### Conclusion: The best-fit model is Polynomial regression model with degree of 2 "
   ]
  },
  {
   "cell_type": "code",
   "execution_count": null,
   "id": "5ae2635e",
   "metadata": {},
   "outputs": [],
   "source": []
  }
 ],
 "metadata": {
  "kernelspec": {
   "display_name": "Python 3 (ipykernel)",
   "language": "python",
   "name": "python3"
  },
  "language_info": {
   "codemirror_mode": {
    "name": "ipython",
    "version": 3
   },
   "file_extension": ".py",
   "mimetype": "text/x-python",
   "name": "python",
   "nbconvert_exporter": "python",
   "pygments_lexer": "ipython3",
   "version": "3.9.12"
  }
 },
 "nbformat": 4,
 "nbformat_minor": 5
}
